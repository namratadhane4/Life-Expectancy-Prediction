{
 "cells": [
  {
   "cell_type": "code",
   "execution_count": 1,
   "id": "b3927be0",
   "metadata": {},
   "outputs": [],
   "source": [
    "import pandas as pd"
   ]
  },
  {
   "cell_type": "code",
   "execution_count": 2,
   "id": "6c6865ff",
   "metadata": {},
   "outputs": [],
   "source": [
    "parentDir = \"D:/CDAC/IACSD/Project/\"\n",
    "X_train = pd.read_csv(parentDir + 'life_expectancy/imp/X_train.csv').values\n",
    "X_test = pd.read_csv(parentDir + 'life_expectancy/imp/X_test.csv').values\n",
    "Y_train = pd.read_csv(parentDir + 'life_expectancy/imp/Y_train.csv').values\n",
    "Y_test = pd.read_csv(parentDir + 'life_expectancy/imp/Y_test.csv').values"
   ]
  },
  {
   "cell_type": "markdown",
   "id": "85098d83",
   "metadata": {},
   "source": [
    "# Create evaluation function\n",
    "This function will calculate mean squared error (MSE) , mean absolute error (MAE) and R2 score"
   ]
  },
  {
   "cell_type": "code",
   "execution_count": 3,
   "id": "173b59e7",
   "metadata": {},
   "outputs": [],
   "source": [
    "def eval_fun(Y_test,Y_pred):\n",
    "    from sklearn.metrics import r2_score,mean_squared_error,mean_absolute_error\n",
    "    r2 = r2_score(Y_test,Y_pred) #pe\n",
    "    mse = mean_squared_error(Y_test,Y_pred)\n",
    "    mae = mean_absolute_error(Y_test,Y_pred)\n",
    "    return r2, mse, mae"
   ]
  },
  {
   "cell_type": "markdown",
   "id": "50e53b72",
   "metadata": {},
   "source": [
    "# Apply Random Forest Grid search"
   ]
  },
  {
   "cell_type": "code",
   "execution_count": 4,
   "id": "6109fd40",
   "metadata": {},
   "outputs": [],
   "source": [
    "from sklearn.ensemble import RandomForestRegressor\n",
    "rf = RandomForestRegressor(oob_score = True)"
   ]
  },
  {
   "cell_type": "code",
   "execution_count": 5,
   "id": "43464245",
   "metadata": {},
   "outputs": [],
   "source": [
    "from sklearn.model_selection import GridSearchCV"
   ]
  },
  {
   "cell_type": "code",
   "execution_count": 6,
   "id": "4ea0e240",
   "metadata": {},
   "outputs": [],
   "source": [
    "# param grid is dictionary \n",
    "# key --> name of parameter to be tuned\n",
    "# value --> list of values which you want to check \n",
    "param_grid = { \n",
    "    'n_estimators' : [50, 200, 500], # number of trees in the random forest\n",
    "    'criterion' : ['squared_error', 'absolute_error', 'poisson'], #The function to measure the quality of a split. \n",
    "    'max_depth' :[3, 5, 7], # maximum number of levels allowed in each decision tree\n",
    "    'max_features' : ['sqrt', 'log2'], # number of features in consideration at every split\n",
    "    'max_samples' : [0.7, 0.8, 0.9] #\n",
    "}"
   ]
  },
  {
   "cell_type": "code",
   "execution_count": 7,
   "id": "8c8b1553",
   "metadata": {},
   "outputs": [],
   "source": [
    "gscv =GridSearchCV(estimator = rf, param_grid = param_grid, cv = 2, verbose =2)"
   ]
  },
  {
   "cell_type": "code",
   "execution_count": 8,
   "id": "1ed0b268",
   "metadata": {},
   "outputs": [
    {
     "name": "stdout",
     "output_type": "stream",
     "text": [
      "Fitting 2 folds for each of 162 candidates, totalling 324 fits\n",
      "[CV] END criterion=squared_error, max_depth=3, max_features=sqrt, max_samples=0.7, n_estimators=50; total time=   0.1s\n",
      "[CV] END criterion=squared_error, max_depth=3, max_features=sqrt, max_samples=0.7, n_estimators=50; total time=   0.1s\n",
      "[CV] END criterion=squared_error, max_depth=3, max_features=sqrt, max_samples=0.7, n_estimators=200; total time=   0.8s\n",
      "[CV] END criterion=squared_error, max_depth=3, max_features=sqrt, max_samples=0.7, n_estimators=200; total time=   0.8s\n",
      "[CV] END criterion=squared_error, max_depth=3, max_features=sqrt, max_samples=0.7, n_estimators=500; total time=   2.1s\n",
      "[CV] END criterion=squared_error, max_depth=3, max_features=sqrt, max_samples=0.7, n_estimators=500; total time=   2.2s\n",
      "[CV] END criterion=squared_error, max_depth=3, max_features=sqrt, max_samples=0.8, n_estimators=50; total time=   0.1s\n",
      "[CV] END criterion=squared_error, max_depth=3, max_features=sqrt, max_samples=0.8, n_estimators=50; total time=   0.1s\n",
      "[CV] END criterion=squared_error, max_depth=3, max_features=sqrt, max_samples=0.8, n_estimators=200; total time=   0.8s\n",
      "[CV] END criterion=squared_error, max_depth=3, max_features=sqrt, max_samples=0.8, n_estimators=200; total time=   0.9s\n",
      "[CV] END criterion=squared_error, max_depth=3, max_features=sqrt, max_samples=0.8, n_estimators=500; total time=   2.6s\n",
      "[CV] END criterion=squared_error, max_depth=3, max_features=sqrt, max_samples=0.8, n_estimators=500; total time=   2.5s\n",
      "[CV] END criterion=squared_error, max_depth=3, max_features=sqrt, max_samples=0.9, n_estimators=50; total time=   0.3s\n",
      "[CV] END criterion=squared_error, max_depth=3, max_features=sqrt, max_samples=0.9, n_estimators=50; total time=   0.2s\n",
      "[CV] END criterion=squared_error, max_depth=3, max_features=sqrt, max_samples=0.9, n_estimators=200; total time=   1.1s\n",
      "[CV] END criterion=squared_error, max_depth=3, max_features=sqrt, max_samples=0.9, n_estimators=200; total time=   1.0s\n",
      "[CV] END criterion=squared_error, max_depth=3, max_features=sqrt, max_samples=0.9, n_estimators=500; total time=   2.3s\n",
      "[CV] END criterion=squared_error, max_depth=3, max_features=sqrt, max_samples=0.9, n_estimators=500; total time=   2.3s\n",
      "[CV] END criterion=squared_error, max_depth=3, max_features=log2, max_samples=0.7, n_estimators=50; total time=   0.1s\n",
      "[CV] END criterion=squared_error, max_depth=3, max_features=log2, max_samples=0.7, n_estimators=50; total time=   0.1s\n",
      "[CV] END criterion=squared_error, max_depth=3, max_features=log2, max_samples=0.7, n_estimators=200; total time=   0.8s\n",
      "[CV] END criterion=squared_error, max_depth=3, max_features=log2, max_samples=0.7, n_estimators=200; total time=   0.8s\n",
      "[CV] END criterion=squared_error, max_depth=3, max_features=log2, max_samples=0.7, n_estimators=500; total time=   2.1s\n",
      "[CV] END criterion=squared_error, max_depth=3, max_features=log2, max_samples=0.7, n_estimators=500; total time=   2.1s\n",
      "[CV] END criterion=squared_error, max_depth=3, max_features=log2, max_samples=0.8, n_estimators=50; total time=   0.1s\n",
      "[CV] END criterion=squared_error, max_depth=3, max_features=log2, max_samples=0.8, n_estimators=50; total time=   0.1s\n",
      "[CV] END criterion=squared_error, max_depth=3, max_features=log2, max_samples=0.8, n_estimators=200; total time=   0.8s\n",
      "[CV] END criterion=squared_error, max_depth=3, max_features=log2, max_samples=0.8, n_estimators=200; total time=   0.9s\n",
      "[CV] END criterion=squared_error, max_depth=3, max_features=log2, max_samples=0.8, n_estimators=500; total time=   2.4s\n",
      "[CV] END criterion=squared_error, max_depth=3, max_features=log2, max_samples=0.8, n_estimators=500; total time=   2.4s\n",
      "[CV] END criterion=squared_error, max_depth=3, max_features=log2, max_samples=0.9, n_estimators=50; total time=   0.2s\n",
      "[CV] END criterion=squared_error, max_depth=3, max_features=log2, max_samples=0.9, n_estimators=50; total time=   0.2s\n",
      "[CV] END criterion=squared_error, max_depth=3, max_features=log2, max_samples=0.9, n_estimators=200; total time=   0.9s\n",
      "[CV] END criterion=squared_error, max_depth=3, max_features=log2, max_samples=0.9, n_estimators=200; total time=   0.9s\n",
      "[CV] END criterion=squared_error, max_depth=3, max_features=log2, max_samples=0.9, n_estimators=500; total time=   2.4s\n",
      "[CV] END criterion=squared_error, max_depth=3, max_features=log2, max_samples=0.9, n_estimators=500; total time=   2.3s\n",
      "[CV] END criterion=squared_error, max_depth=5, max_features=sqrt, max_samples=0.7, n_estimators=50; total time=   0.2s\n",
      "[CV] END criterion=squared_error, max_depth=5, max_features=sqrt, max_samples=0.7, n_estimators=50; total time=   0.2s\n",
      "[CV] END criterion=squared_error, max_depth=5, max_features=sqrt, max_samples=0.7, n_estimators=200; total time=   1.1s\n",
      "[CV] END criterion=squared_error, max_depth=5, max_features=sqrt, max_samples=0.7, n_estimators=200; total time=   1.1s\n",
      "[CV] END criterion=squared_error, max_depth=5, max_features=sqrt, max_samples=0.7, n_estimators=500; total time=   2.9s\n",
      "[CV] END criterion=squared_error, max_depth=5, max_features=sqrt, max_samples=0.7, n_estimators=500; total time=   2.8s\n",
      "[CV] END criterion=squared_error, max_depth=5, max_features=sqrt, max_samples=0.8, n_estimators=50; total time=   0.2s\n",
      "[CV] END criterion=squared_error, max_depth=5, max_features=sqrt, max_samples=0.8, n_estimators=50; total time=   0.2s\n",
      "[CV] END criterion=squared_error, max_depth=5, max_features=sqrt, max_samples=0.8, n_estimators=200; total time=   1.1s\n",
      "[CV] END criterion=squared_error, max_depth=5, max_features=sqrt, max_samples=0.8, n_estimators=200; total time=   1.2s\n",
      "[CV] END criterion=squared_error, max_depth=5, max_features=sqrt, max_samples=0.8, n_estimators=500; total time=   3.0s\n",
      "[CV] END criterion=squared_error, max_depth=5, max_features=sqrt, max_samples=0.8, n_estimators=500; total time=   3.0s\n",
      "[CV] END criterion=squared_error, max_depth=5, max_features=sqrt, max_samples=0.9, n_estimators=50; total time=   0.2s\n",
      "[CV] END criterion=squared_error, max_depth=5, max_features=sqrt, max_samples=0.9, n_estimators=50; total time=   0.3s\n",
      "[CV] END criterion=squared_error, max_depth=5, max_features=sqrt, max_samples=0.9, n_estimators=200; total time=   1.3s\n",
      "[CV] END criterion=squared_error, max_depth=5, max_features=sqrt, max_samples=0.9, n_estimators=200; total time=   1.3s\n",
      "[CV] END criterion=squared_error, max_depth=5, max_features=sqrt, max_samples=0.9, n_estimators=500; total time=   3.3s\n",
      "[CV] END criterion=squared_error, max_depth=5, max_features=sqrt, max_samples=0.9, n_estimators=500; total time=   3.2s\n",
      "[CV] END criterion=squared_error, max_depth=5, max_features=log2, max_samples=0.7, n_estimators=50; total time=   0.2s\n",
      "[CV] END criterion=squared_error, max_depth=5, max_features=log2, max_samples=0.7, n_estimators=50; total time=   0.2s\n",
      "[CV] END criterion=squared_error, max_depth=5, max_features=log2, max_samples=0.7, n_estimators=200; total time=   1.1s\n",
      "[CV] END criterion=squared_error, max_depth=5, max_features=log2, max_samples=0.7, n_estimators=200; total time=   1.1s\n",
      "[CV] END criterion=squared_error, max_depth=5, max_features=log2, max_samples=0.7, n_estimators=500; total time=   2.8s\n",
      "[CV] END criterion=squared_error, max_depth=5, max_features=log2, max_samples=0.7, n_estimators=500; total time=   2.8s\n",
      "[CV] END criterion=squared_error, max_depth=5, max_features=log2, max_samples=0.8, n_estimators=50; total time=   0.2s\n",
      "[CV] END criterion=squared_error, max_depth=5, max_features=log2, max_samples=0.8, n_estimators=50; total time=   0.2s\n",
      "[CV] END criterion=squared_error, max_depth=5, max_features=log2, max_samples=0.8, n_estimators=200; total time=   1.1s\n",
      "[CV] END criterion=squared_error, max_depth=5, max_features=log2, max_samples=0.8, n_estimators=200; total time=   1.2s\n",
      "[CV] END criterion=squared_error, max_depth=5, max_features=log2, max_samples=0.8, n_estimators=500; total time=   3.0s\n",
      "[CV] END criterion=squared_error, max_depth=5, max_features=log2, max_samples=0.8, n_estimators=500; total time=   3.1s\n",
      "[CV] END criterion=squared_error, max_depth=5, max_features=log2, max_samples=0.9, n_estimators=50; total time=   0.2s\n",
      "[CV] END criterion=squared_error, max_depth=5, max_features=log2, max_samples=0.9, n_estimators=50; total time=   0.2s\n"
     ]
    },
    {
     "name": "stdout",
     "output_type": "stream",
     "text": [
      "[CV] END criterion=squared_error, max_depth=5, max_features=log2, max_samples=0.9, n_estimators=200; total time=   1.2s\n",
      "[CV] END criterion=squared_error, max_depth=5, max_features=log2, max_samples=0.9, n_estimators=200; total time=   1.2s\n",
      "[CV] END criterion=squared_error, max_depth=5, max_features=log2, max_samples=0.9, n_estimators=500; total time=   3.2s\n",
      "[CV] END criterion=squared_error, max_depth=5, max_features=log2, max_samples=0.9, n_estimators=500; total time=   3.2s\n",
      "[CV] END criterion=squared_error, max_depth=7, max_features=sqrt, max_samples=0.7, n_estimators=50; total time=   0.3s\n",
      "[CV] END criterion=squared_error, max_depth=7, max_features=sqrt, max_samples=0.7, n_estimators=50; total time=   0.3s\n",
      "[CV] END criterion=squared_error, max_depth=7, max_features=sqrt, max_samples=0.7, n_estimators=200; total time=   1.4s\n",
      "[CV] END criterion=squared_error, max_depth=7, max_features=sqrt, max_samples=0.7, n_estimators=200; total time=   1.5s\n",
      "[CV] END criterion=squared_error, max_depth=7, max_features=sqrt, max_samples=0.7, n_estimators=500; total time=   3.6s\n",
      "[CV] END criterion=squared_error, max_depth=7, max_features=sqrt, max_samples=0.7, n_estimators=500; total time=   3.6s\n",
      "[CV] END criterion=squared_error, max_depth=7, max_features=sqrt, max_samples=0.8, n_estimators=50; total time=   0.3s\n",
      "[CV] END criterion=squared_error, max_depth=7, max_features=sqrt, max_samples=0.8, n_estimators=50; total time=   0.3s\n",
      "[CV] END criterion=squared_error, max_depth=7, max_features=sqrt, max_samples=0.8, n_estimators=200; total time=   1.5s\n",
      "[CV] END criterion=squared_error, max_depth=7, max_features=sqrt, max_samples=0.8, n_estimators=200; total time=   1.4s\n",
      "[CV] END criterion=squared_error, max_depth=7, max_features=sqrt, max_samples=0.8, n_estimators=500; total time=   3.8s\n",
      "[CV] END criterion=squared_error, max_depth=7, max_features=sqrt, max_samples=0.8, n_estimators=500; total time=   3.8s\n",
      "[CV] END criterion=squared_error, max_depth=7, max_features=sqrt, max_samples=0.9, n_estimators=50; total time=   0.3s\n",
      "[CV] END criterion=squared_error, max_depth=7, max_features=sqrt, max_samples=0.9, n_estimators=50; total time=   0.3s\n",
      "[CV] END criterion=squared_error, max_depth=7, max_features=sqrt, max_samples=0.9, n_estimators=200; total time=   1.5s\n",
      "[CV] END criterion=squared_error, max_depth=7, max_features=sqrt, max_samples=0.9, n_estimators=200; total time=   1.6s\n",
      "[CV] END criterion=squared_error, max_depth=7, max_features=sqrt, max_samples=0.9, n_estimators=500; total time=   4.1s\n",
      "[CV] END criterion=squared_error, max_depth=7, max_features=sqrt, max_samples=0.9, n_estimators=500; total time=   4.2s\n",
      "[CV] END criterion=squared_error, max_depth=7, max_features=log2, max_samples=0.7, n_estimators=50; total time=   0.3s\n",
      "[CV] END criterion=squared_error, max_depth=7, max_features=log2, max_samples=0.7, n_estimators=50; total time=   0.3s\n",
      "[CV] END criterion=squared_error, max_depth=7, max_features=log2, max_samples=0.7, n_estimators=200; total time=   1.4s\n",
      "[CV] END criterion=squared_error, max_depth=7, max_features=log2, max_samples=0.7, n_estimators=200; total time=   1.4s\n",
      "[CV] END criterion=squared_error, max_depth=7, max_features=log2, max_samples=0.7, n_estimators=500; total time=   3.6s\n",
      "[CV] END criterion=squared_error, max_depth=7, max_features=log2, max_samples=0.7, n_estimators=500; total time=   3.5s\n",
      "[CV] END criterion=squared_error, max_depth=7, max_features=log2, max_samples=0.8, n_estimators=50; total time=   0.3s\n",
      "[CV] END criterion=squared_error, max_depth=7, max_features=log2, max_samples=0.8, n_estimators=50; total time=   0.3s\n",
      "[CV] END criterion=squared_error, max_depth=7, max_features=log2, max_samples=0.8, n_estimators=200; total time=   1.4s\n",
      "[CV] END criterion=squared_error, max_depth=7, max_features=log2, max_samples=0.8, n_estimators=200; total time=   1.5s\n",
      "[CV] END criterion=squared_error, max_depth=7, max_features=log2, max_samples=0.8, n_estimators=500; total time=   3.8s\n",
      "[CV] END criterion=squared_error, max_depth=7, max_features=log2, max_samples=0.8, n_estimators=500; total time=   3.8s\n",
      "[CV] END criterion=squared_error, max_depth=7, max_features=log2, max_samples=0.9, n_estimators=50; total time=   0.3s\n",
      "[CV] END criterion=squared_error, max_depth=7, max_features=log2, max_samples=0.9, n_estimators=50; total time=   0.3s\n",
      "[CV] END criterion=squared_error, max_depth=7, max_features=log2, max_samples=0.9, n_estimators=200; total time=   1.7s\n",
      "[CV] END criterion=squared_error, max_depth=7, max_features=log2, max_samples=0.9, n_estimators=200; total time=   1.7s\n",
      "[CV] END criterion=squared_error, max_depth=7, max_features=log2, max_samples=0.9, n_estimators=500; total time=   4.0s\n",
      "[CV] END criterion=squared_error, max_depth=7, max_features=log2, max_samples=0.9, n_estimators=500; total time=   4.0s\n",
      "[CV] END criterion=absolute_error, max_depth=3, max_features=sqrt, max_samples=0.7, n_estimators=50; total time=   4.4s\n",
      "[CV] END criterion=absolute_error, max_depth=3, max_features=sqrt, max_samples=0.7, n_estimators=50; total time=   4.5s\n",
      "[CV] END criterion=absolute_error, max_depth=3, max_features=sqrt, max_samples=0.7, n_estimators=200; total time=  18.1s\n",
      "[CV] END criterion=absolute_error, max_depth=3, max_features=sqrt, max_samples=0.7, n_estimators=200; total time=  18.4s\n",
      "[CV] END criterion=absolute_error, max_depth=3, max_features=sqrt, max_samples=0.7, n_estimators=500; total time=  45.6s\n",
      "[CV] END criterion=absolute_error, max_depth=3, max_features=sqrt, max_samples=0.7, n_estimators=500; total time=  45.6s\n",
      "[CV] END criterion=absolute_error, max_depth=3, max_features=sqrt, max_samples=0.8, n_estimators=50; total time=   5.4s\n",
      "[CV] END criterion=absolute_error, max_depth=3, max_features=sqrt, max_samples=0.8, n_estimators=50; total time=   5.2s\n",
      "[CV] END criterion=absolute_error, max_depth=3, max_features=sqrt, max_samples=0.8, n_estimators=200; total time=  21.2s\n",
      "[CV] END criterion=absolute_error, max_depth=3, max_features=sqrt, max_samples=0.8, n_estimators=200; total time=  21.9s\n",
      "[CV] END criterion=absolute_error, max_depth=3, max_features=sqrt, max_samples=0.8, n_estimators=500; total time=  53.4s\n",
      "[CV] END criterion=absolute_error, max_depth=3, max_features=sqrt, max_samples=0.8, n_estimators=500; total time=  55.4s\n",
      "[CV] END criterion=absolute_error, max_depth=3, max_features=sqrt, max_samples=0.9, n_estimators=50; total time=   6.1s\n",
      "[CV] END criterion=absolute_error, max_depth=3, max_features=sqrt, max_samples=0.9, n_estimators=50; total time=   5.9s\n",
      "[CV] END criterion=absolute_error, max_depth=3, max_features=sqrt, max_samples=0.9, n_estimators=200; total time=  24.8s\n",
      "[CV] END criterion=absolute_error, max_depth=3, max_features=sqrt, max_samples=0.9, n_estimators=200; total time=  25.0s\n",
      "[CV] END criterion=absolute_error, max_depth=3, max_features=sqrt, max_samples=0.9, n_estimators=500; total time= 1.0min\n",
      "[CV] END criterion=absolute_error, max_depth=3, max_features=sqrt, max_samples=0.9, n_estimators=500; total time= 1.0min\n",
      "[CV] END criterion=absolute_error, max_depth=3, max_features=log2, max_samples=0.7, n_estimators=50; total time=   4.4s\n",
      "[CV] END criterion=absolute_error, max_depth=3, max_features=log2, max_samples=0.7, n_estimators=50; total time=   4.5s\n",
      "[CV] END criterion=absolute_error, max_depth=3, max_features=log2, max_samples=0.7, n_estimators=200; total time=  18.1s\n",
      "[CV] END criterion=absolute_error, max_depth=3, max_features=log2, max_samples=0.7, n_estimators=200; total time=  18.8s\n",
      "[CV] END criterion=absolute_error, max_depth=3, max_features=log2, max_samples=0.7, n_estimators=500; total time=  45.5s\n",
      "[CV] END criterion=absolute_error, max_depth=3, max_features=log2, max_samples=0.7, n_estimators=500; total time=  46.9s\n",
      "[CV] END criterion=absolute_error, max_depth=3, max_features=log2, max_samples=0.8, n_estimators=50; total time=   5.1s\n",
      "[CV] END criterion=absolute_error, max_depth=3, max_features=log2, max_samples=0.8, n_estimators=50; total time=   5.4s\n",
      "[CV] END criterion=absolute_error, max_depth=3, max_features=log2, max_samples=0.8, n_estimators=200; total time=  21.7s\n",
      "[CV] END criterion=absolute_error, max_depth=3, max_features=log2, max_samples=0.8, n_estimators=200; total time=  22.2s\n",
      "[CV] END criterion=absolute_error, max_depth=3, max_features=log2, max_samples=0.8, n_estimators=500; total time=  54.2s\n"
     ]
    },
    {
     "name": "stdout",
     "output_type": "stream",
     "text": [
      "[CV] END criterion=absolute_error, max_depth=3, max_features=log2, max_samples=0.8, n_estimators=500; total time=  54.9s\n",
      "[CV] END criterion=absolute_error, max_depth=3, max_features=log2, max_samples=0.9, n_estimators=50; total time=   6.1s\n",
      "[CV] END criterion=absolute_error, max_depth=3, max_features=log2, max_samples=0.9, n_estimators=50; total time=   6.3s\n",
      "[CV] END criterion=absolute_error, max_depth=3, max_features=log2, max_samples=0.9, n_estimators=200; total time=  24.6s\n",
      "[CV] END criterion=absolute_error, max_depth=3, max_features=log2, max_samples=0.9, n_estimators=200; total time=  25.6s\n",
      "[CV] END criterion=absolute_error, max_depth=3, max_features=log2, max_samples=0.9, n_estimators=500; total time= 1.1min\n",
      "[CV] END criterion=absolute_error, max_depth=3, max_features=log2, max_samples=0.9, n_estimators=500; total time= 1.0min\n",
      "[CV] END criterion=absolute_error, max_depth=5, max_features=sqrt, max_samples=0.7, n_estimators=50; total time=   5.4s\n",
      "[CV] END criterion=absolute_error, max_depth=5, max_features=sqrt, max_samples=0.7, n_estimators=50; total time=   5.6s\n",
      "[CV] END criterion=absolute_error, max_depth=5, max_features=sqrt, max_samples=0.7, n_estimators=200; total time=  24.0s\n",
      "[CV] END criterion=absolute_error, max_depth=5, max_features=sqrt, max_samples=0.7, n_estimators=200; total time=  22.5s\n",
      "[CV] END criterion=absolute_error, max_depth=5, max_features=sqrt, max_samples=0.7, n_estimators=500; total time=  56.8s\n",
      "[CV] END criterion=absolute_error, max_depth=5, max_features=sqrt, max_samples=0.7, n_estimators=500; total time=  58.0s\n",
      "[CV] END criterion=absolute_error, max_depth=5, max_features=sqrt, max_samples=0.8, n_estimators=50; total time=   6.6s\n",
      "[CV] END criterion=absolute_error, max_depth=5, max_features=sqrt, max_samples=0.8, n_estimators=50; total time=   7.1s\n",
      "[CV] END criterion=absolute_error, max_depth=5, max_features=sqrt, max_samples=0.8, n_estimators=200; total time=  27.1s\n",
      "[CV] END criterion=absolute_error, max_depth=5, max_features=sqrt, max_samples=0.8, n_estimators=200; total time=  27.3s\n",
      "[CV] END criterion=absolute_error, max_depth=5, max_features=sqrt, max_samples=0.8, n_estimators=500; total time= 1.1min\n",
      "[CV] END criterion=absolute_error, max_depth=5, max_features=sqrt, max_samples=0.8, n_estimators=500; total time= 1.2min\n",
      "[CV] END criterion=absolute_error, max_depth=5, max_features=sqrt, max_samples=0.9, n_estimators=50; total time=   7.4s\n",
      "[CV] END criterion=absolute_error, max_depth=5, max_features=sqrt, max_samples=0.9, n_estimators=50; total time=   7.6s\n",
      "[CV] END criterion=absolute_error, max_depth=5, max_features=sqrt, max_samples=0.9, n_estimators=200; total time=  31.4s\n",
      "[CV] END criterion=absolute_error, max_depth=5, max_features=sqrt, max_samples=0.9, n_estimators=200; total time=  39.9s\n",
      "[CV] END criterion=absolute_error, max_depth=5, max_features=sqrt, max_samples=0.9, n_estimators=500; total time= 1.3min\n",
      "[CV] END criterion=absolute_error, max_depth=5, max_features=sqrt, max_samples=0.9, n_estimators=500; total time= 1.3min\n",
      "[CV] END criterion=absolute_error, max_depth=5, max_features=log2, max_samples=0.7, n_estimators=50; total time=   5.7s\n",
      "[CV] END criterion=absolute_error, max_depth=5, max_features=log2, max_samples=0.7, n_estimators=50; total time=   5.4s\n",
      "[CV] END criterion=absolute_error, max_depth=5, max_features=log2, max_samples=0.7, n_estimators=200; total time=  22.7s\n",
      "[CV] END criterion=absolute_error, max_depth=5, max_features=log2, max_samples=0.7, n_estimators=200; total time=  22.7s\n",
      "[CV] END criterion=absolute_error, max_depth=5, max_features=log2, max_samples=0.7, n_estimators=500; total time=  56.9s\n",
      "[CV] END criterion=absolute_error, max_depth=5, max_features=log2, max_samples=0.7, n_estimators=500; total time=  57.3s\n",
      "[CV] END criterion=absolute_error, max_depth=5, max_features=log2, max_samples=0.8, n_estimators=50; total time=   6.4s\n",
      "[CV] END criterion=absolute_error, max_depth=5, max_features=log2, max_samples=0.8, n_estimators=50; total time=   6.8s\n",
      "[CV] END criterion=absolute_error, max_depth=5, max_features=log2, max_samples=0.8, n_estimators=200; total time=  27.0s\n",
      "[CV] END criterion=absolute_error, max_depth=5, max_features=log2, max_samples=0.8, n_estimators=200; total time=  27.2s\n",
      "[CV] END criterion=absolute_error, max_depth=5, max_features=log2, max_samples=0.8, n_estimators=500; total time= 1.1min\n",
      "[CV] END criterion=absolute_error, max_depth=5, max_features=log2, max_samples=0.8, n_estimators=500; total time= 1.1min\n",
      "[CV] END criterion=absolute_error, max_depth=5, max_features=log2, max_samples=0.9, n_estimators=50; total time=   7.5s\n",
      "[CV] END criterion=absolute_error, max_depth=5, max_features=log2, max_samples=0.9, n_estimators=50; total time=   7.9s\n",
      "[CV] END criterion=absolute_error, max_depth=5, max_features=log2, max_samples=0.9, n_estimators=200; total time=  30.9s\n",
      "[CV] END criterion=absolute_error, max_depth=5, max_features=log2, max_samples=0.9, n_estimators=200; total time=  29.7s\n",
      "[CV] END criterion=absolute_error, max_depth=5, max_features=log2, max_samples=0.9, n_estimators=500; total time=  54.1s\n",
      "[CV] END criterion=absolute_error, max_depth=5, max_features=log2, max_samples=0.9, n_estimators=500; total time=  53.7s\n",
      "[CV] END criterion=absolute_error, max_depth=7, max_features=sqrt, max_samples=0.7, n_estimators=50; total time=   4.2s\n",
      "[CV] END criterion=absolute_error, max_depth=7, max_features=sqrt, max_samples=0.7, n_estimators=50; total time=   4.3s\n",
      "[CV] END criterion=absolute_error, max_depth=7, max_features=sqrt, max_samples=0.7, n_estimators=200; total time=  17.7s\n",
      "[CV] END criterion=absolute_error, max_depth=7, max_features=sqrt, max_samples=0.7, n_estimators=200; total time=  18.4s\n",
      "[CV] END criterion=absolute_error, max_depth=7, max_features=sqrt, max_samples=0.7, n_estimators=500; total time=  43.6s\n",
      "[CV] END criterion=absolute_error, max_depth=7, max_features=sqrt, max_samples=0.7, n_estimators=500; total time=  44.0s\n",
      "[CV] END criterion=absolute_error, max_depth=7, max_features=sqrt, max_samples=0.8, n_estimators=50; total time=   5.0s\n",
      "[CV] END criterion=absolute_error, max_depth=7, max_features=sqrt, max_samples=0.8, n_estimators=50; total time=   5.4s\n",
      "[CV] END criterion=absolute_error, max_depth=7, max_features=sqrt, max_samples=0.8, n_estimators=200; total time=  21.0s\n",
      "[CV] END criterion=absolute_error, max_depth=7, max_features=sqrt, max_samples=0.8, n_estimators=200; total time=  21.2s\n",
      "[CV] END criterion=absolute_error, max_depth=7, max_features=sqrt, max_samples=0.8, n_estimators=500; total time=  51.1s\n",
      "[CV] END criterion=absolute_error, max_depth=7, max_features=sqrt, max_samples=0.8, n_estimators=500; total time=  51.5s\n",
      "[CV] END criterion=absolute_error, max_depth=7, max_features=sqrt, max_samples=0.9, n_estimators=50; total time=   5.4s\n",
      "[CV] END criterion=absolute_error, max_depth=7, max_features=sqrt, max_samples=0.9, n_estimators=50; total time=   5.6s\n",
      "[CV] END criterion=absolute_error, max_depth=7, max_features=sqrt, max_samples=0.9, n_estimators=200; total time=  23.4s\n",
      "[CV] END criterion=absolute_error, max_depth=7, max_features=sqrt, max_samples=0.9, n_estimators=200; total time=  22.8s\n",
      "[CV] END criterion=absolute_error, max_depth=7, max_features=sqrt, max_samples=0.9, n_estimators=500; total time=  58.8s\n",
      "[CV] END criterion=absolute_error, max_depth=7, max_features=sqrt, max_samples=0.9, n_estimators=500; total time= 1.0min\n",
      "[CV] END criterion=absolute_error, max_depth=7, max_features=log2, max_samples=0.7, n_estimators=50; total time=   4.3s\n",
      "[CV] END criterion=absolute_error, max_depth=7, max_features=log2, max_samples=0.7, n_estimators=50; total time=   4.3s\n",
      "[CV] END criterion=absolute_error, max_depth=7, max_features=log2, max_samples=0.7, n_estimators=200; total time=  17.5s\n",
      "[CV] END criterion=absolute_error, max_depth=7, max_features=log2, max_samples=0.7, n_estimators=200; total time=  17.2s\n",
      "[CV] END criterion=absolute_error, max_depth=7, max_features=log2, max_samples=0.7, n_estimators=500; total time=  47.1s\n",
      "[CV] END criterion=absolute_error, max_depth=7, max_features=log2, max_samples=0.7, n_estimators=500; total time=  46.9s\n",
      "[CV] END criterion=absolute_error, max_depth=7, max_features=log2, max_samples=0.8, n_estimators=50; total time=   5.0s\n"
     ]
    },
    {
     "name": "stdout",
     "output_type": "stream",
     "text": [
      "[CV] END criterion=absolute_error, max_depth=7, max_features=log2, max_samples=0.8, n_estimators=50; total time=   5.1s\n",
      "[CV] END criterion=absolute_error, max_depth=7, max_features=log2, max_samples=0.8, n_estimators=200; total time=  21.2s\n",
      "[CV] END criterion=absolute_error, max_depth=7, max_features=log2, max_samples=0.8, n_estimators=200; total time=  21.0s\n",
      "[CV] END criterion=absolute_error, max_depth=7, max_features=log2, max_samples=0.8, n_estimators=500; total time=  55.6s\n",
      "[CV] END criterion=absolute_error, max_depth=7, max_features=log2, max_samples=0.8, n_estimators=500; total time=  45.8s\n",
      "[CV] END criterion=absolute_error, max_depth=7, max_features=log2, max_samples=0.9, n_estimators=50; total time=   5.0s\n",
      "[CV] END criterion=absolute_error, max_depth=7, max_features=log2, max_samples=0.9, n_estimators=50; total time=   5.2s\n",
      "[CV] END criterion=absolute_error, max_depth=7, max_features=log2, max_samples=0.9, n_estimators=200; total time=  19.9s\n",
      "[CV] END criterion=absolute_error, max_depth=7, max_features=log2, max_samples=0.9, n_estimators=200; total time=  20.0s\n",
      "[CV] END criterion=absolute_error, max_depth=7, max_features=log2, max_samples=0.9, n_estimators=500; total time=  50.6s\n",
      "[CV] END criterion=absolute_error, max_depth=7, max_features=log2, max_samples=0.9, n_estimators=500; total time=  50.9s\n",
      "[CV] END criterion=poisson, max_depth=3, max_features=sqrt, max_samples=0.7, n_estimators=50; total time=   0.1s\n",
      "[CV] END criterion=poisson, max_depth=3, max_features=sqrt, max_samples=0.7, n_estimators=50; total time=   0.1s\n",
      "[CV] END criterion=poisson, max_depth=3, max_features=sqrt, max_samples=0.7, n_estimators=200; total time=   0.6s\n",
      "[CV] END criterion=poisson, max_depth=3, max_features=sqrt, max_samples=0.7, n_estimators=200; total time=   0.6s\n",
      "[CV] END criterion=poisson, max_depth=3, max_features=sqrt, max_samples=0.7, n_estimators=500; total time=   1.6s\n",
      "[CV] END criterion=poisson, max_depth=3, max_features=sqrt, max_samples=0.7, n_estimators=500; total time=   1.6s\n",
      "[CV] END criterion=poisson, max_depth=3, max_features=sqrt, max_samples=0.8, n_estimators=50; total time=   0.1s\n",
      "[CV] END criterion=poisson, max_depth=3, max_features=sqrt, max_samples=0.8, n_estimators=50; total time=   0.1s\n",
      "[CV] END criterion=poisson, max_depth=3, max_features=sqrt, max_samples=0.8, n_estimators=200; total time=   0.6s\n",
      "[CV] END criterion=poisson, max_depth=3, max_features=sqrt, max_samples=0.8, n_estimators=200; total time=   0.6s\n",
      "[CV] END criterion=poisson, max_depth=3, max_features=sqrt, max_samples=0.8, n_estimators=500; total time=   1.6s\n",
      "[CV] END criterion=poisson, max_depth=3, max_features=sqrt, max_samples=0.8, n_estimators=500; total time=   1.7s\n",
      "[CV] END criterion=poisson, max_depth=3, max_features=sqrt, max_samples=0.9, n_estimators=50; total time=   0.1s\n",
      "[CV] END criterion=poisson, max_depth=3, max_features=sqrt, max_samples=0.9, n_estimators=50; total time=   0.1s\n",
      "[CV] END criterion=poisson, max_depth=3, max_features=sqrt, max_samples=0.9, n_estimators=200; total time=   0.7s\n",
      "[CV] END criterion=poisson, max_depth=3, max_features=sqrt, max_samples=0.9, n_estimators=200; total time=   0.6s\n",
      "[CV] END criterion=poisson, max_depth=3, max_features=sqrt, max_samples=0.9, n_estimators=500; total time=   1.7s\n",
      "[CV] END criterion=poisson, max_depth=3, max_features=sqrt, max_samples=0.9, n_estimators=500; total time=   1.8s\n",
      "[CV] END criterion=poisson, max_depth=3, max_features=log2, max_samples=0.7, n_estimators=50; total time=   0.1s\n",
      "[CV] END criterion=poisson, max_depth=3, max_features=log2, max_samples=0.7, n_estimators=50; total time=   0.1s\n",
      "[CV] END criterion=poisson, max_depth=3, max_features=log2, max_samples=0.7, n_estimators=200; total time=   0.6s\n",
      "[CV] END criterion=poisson, max_depth=3, max_features=log2, max_samples=0.7, n_estimators=200; total time=   0.6s\n",
      "[CV] END criterion=poisson, max_depth=3, max_features=log2, max_samples=0.7, n_estimators=500; total time=   1.5s\n",
      "[CV] END criterion=poisson, max_depth=3, max_features=log2, max_samples=0.7, n_estimators=500; total time=   1.6s\n",
      "[CV] END criterion=poisson, max_depth=3, max_features=log2, max_samples=0.8, n_estimators=50; total time=   0.1s\n",
      "[CV] END criterion=poisson, max_depth=3, max_features=log2, max_samples=0.8, n_estimators=50; total time=   0.1s\n",
      "[CV] END criterion=poisson, max_depth=3, max_features=log2, max_samples=0.8, n_estimators=200; total time=   0.6s\n",
      "[CV] END criterion=poisson, max_depth=3, max_features=log2, max_samples=0.8, n_estimators=200; total time=   0.6s\n",
      "[CV] END criterion=poisson, max_depth=3, max_features=log2, max_samples=0.8, n_estimators=500; total time=   1.6s\n",
      "[CV] END criterion=poisson, max_depth=3, max_features=log2, max_samples=0.8, n_estimators=500; total time=   1.7s\n",
      "[CV] END criterion=poisson, max_depth=3, max_features=log2, max_samples=0.9, n_estimators=50; total time=   0.1s\n",
      "[CV] END criterion=poisson, max_depth=3, max_features=log2, max_samples=0.9, n_estimators=50; total time=   0.1s\n",
      "[CV] END criterion=poisson, max_depth=3, max_features=log2, max_samples=0.9, n_estimators=200; total time=   0.7s\n",
      "[CV] END criterion=poisson, max_depth=3, max_features=log2, max_samples=0.9, n_estimators=200; total time=   0.7s\n",
      "[CV] END criterion=poisson, max_depth=3, max_features=log2, max_samples=0.9, n_estimators=500; total time=   1.8s\n",
      "[CV] END criterion=poisson, max_depth=3, max_features=log2, max_samples=0.9, n_estimators=500; total time=   1.8s\n",
      "[CV] END criterion=poisson, max_depth=5, max_features=sqrt, max_samples=0.7, n_estimators=50; total time=   0.1s\n",
      "[CV] END criterion=poisson, max_depth=5, max_features=sqrt, max_samples=0.7, n_estimators=50; total time=   0.1s\n",
      "[CV] END criterion=poisson, max_depth=5, max_features=sqrt, max_samples=0.7, n_estimators=200; total time=   0.9s\n",
      "[CV] END criterion=poisson, max_depth=5, max_features=sqrt, max_samples=0.7, n_estimators=200; total time=   0.8s\n",
      "[CV] END criterion=poisson, max_depth=5, max_features=sqrt, max_samples=0.7, n_estimators=500; total time=   2.2s\n",
      "[CV] END criterion=poisson, max_depth=5, max_features=sqrt, max_samples=0.7, n_estimators=500; total time=   2.1s\n",
      "[CV] END criterion=poisson, max_depth=5, max_features=sqrt, max_samples=0.8, n_estimators=50; total time=   0.1s\n",
      "[CV] END criterion=poisson, max_depth=5, max_features=sqrt, max_samples=0.8, n_estimators=50; total time=   0.2s\n",
      "[CV] END criterion=poisson, max_depth=5, max_features=sqrt, max_samples=0.8, n_estimators=200; total time=   0.9s\n",
      "[CV] END criterion=poisson, max_depth=5, max_features=sqrt, max_samples=0.8, n_estimators=200; total time=   0.9s\n",
      "[CV] END criterion=poisson, max_depth=5, max_features=sqrt, max_samples=0.8, n_estimators=500; total time=   2.4s\n",
      "[CV] END criterion=poisson, max_depth=5, max_features=sqrt, max_samples=0.8, n_estimators=500; total time=   2.4s\n",
      "[CV] END criterion=poisson, max_depth=5, max_features=sqrt, max_samples=0.9, n_estimators=50; total time=   0.2s\n",
      "[CV] END criterion=poisson, max_depth=5, max_features=sqrt, max_samples=0.9, n_estimators=50; total time=   0.2s\n",
      "[CV] END criterion=poisson, max_depth=5, max_features=sqrt, max_samples=0.9, n_estimators=200; total time=   1.0s\n",
      "[CV] END criterion=poisson, max_depth=5, max_features=sqrt, max_samples=0.9, n_estimators=200; total time=   0.9s\n",
      "[CV] END criterion=poisson, max_depth=5, max_features=sqrt, max_samples=0.9, n_estimators=500; total time=   2.6s\n",
      "[CV] END criterion=poisson, max_depth=5, max_features=sqrt, max_samples=0.9, n_estimators=500; total time=   2.8s\n",
      "[CV] END criterion=poisson, max_depth=5, max_features=log2, max_samples=0.7, n_estimators=50; total time=   0.3s\n",
      "[CV] END criterion=poisson, max_depth=5, max_features=log2, max_samples=0.7, n_estimators=50; total time=   0.2s\n",
      "[CV] END criterion=poisson, max_depth=5, max_features=log2, max_samples=0.7, n_estimators=200; total time=   1.0s\n",
      "[CV] END criterion=poisson, max_depth=5, max_features=log2, max_samples=0.7, n_estimators=200; total time=   1.6s\n",
      "[CV] END criterion=poisson, max_depth=5, max_features=log2, max_samples=0.7, n_estimators=500; total time=   3.4s\n",
      "[CV] END criterion=poisson, max_depth=5, max_features=log2, max_samples=0.7, n_estimators=500; total time=   3.0s\n",
      "[CV] END criterion=poisson, max_depth=5, max_features=log2, max_samples=0.8, n_estimators=50; total time=   0.3s\n"
     ]
    },
    {
     "name": "stdout",
     "output_type": "stream",
     "text": [
      "[CV] END criterion=poisson, max_depth=5, max_features=log2, max_samples=0.8, n_estimators=50; total time=   0.3s\n",
      "[CV] END criterion=poisson, max_depth=5, max_features=log2, max_samples=0.8, n_estimators=200; total time=   1.3s\n",
      "[CV] END criterion=poisson, max_depth=5, max_features=log2, max_samples=0.8, n_estimators=200; total time=   1.1s\n",
      "[CV] END criterion=poisson, max_depth=5, max_features=log2, max_samples=0.8, n_estimators=500; total time=   2.9s\n",
      "[CV] END criterion=poisson, max_depth=5, max_features=log2, max_samples=0.8, n_estimators=500; total time=   4.4s\n",
      "[CV] END criterion=poisson, max_depth=5, max_features=log2, max_samples=0.9, n_estimators=50; total time=   0.2s\n",
      "[CV] END criterion=poisson, max_depth=5, max_features=log2, max_samples=0.9, n_estimators=50; total time=   0.2s\n",
      "[CV] END criterion=poisson, max_depth=5, max_features=log2, max_samples=0.9, n_estimators=200; total time=   1.1s\n",
      "[CV] END criterion=poisson, max_depth=5, max_features=log2, max_samples=0.9, n_estimators=200; total time=   1.0s\n",
      "[CV] END criterion=poisson, max_depth=5, max_features=log2, max_samples=0.9, n_estimators=500; total time=   3.1s\n",
      "[CV] END criterion=poisson, max_depth=5, max_features=log2, max_samples=0.9, n_estimators=500; total time=   2.7s\n",
      "[CV] END criterion=poisson, max_depth=7, max_features=sqrt, max_samples=0.7, n_estimators=50; total time=   0.2s\n",
      "[CV] END criterion=poisson, max_depth=7, max_features=sqrt, max_samples=0.7, n_estimators=50; total time=   0.2s\n",
      "[CV] END criterion=poisson, max_depth=7, max_features=sqrt, max_samples=0.7, n_estimators=200; total time=   1.5s\n",
      "[CV] END criterion=poisson, max_depth=7, max_features=sqrt, max_samples=0.7, n_estimators=200; total time=   1.3s\n",
      "[CV] END criterion=poisson, max_depth=7, max_features=sqrt, max_samples=0.7, n_estimators=500; total time=   3.0s\n",
      "[CV] END criterion=poisson, max_depth=7, max_features=sqrt, max_samples=0.7, n_estimators=500; total time=   3.1s\n",
      "[CV] END criterion=poisson, max_depth=7, max_features=sqrt, max_samples=0.8, n_estimators=50; total time=   0.3s\n",
      "[CV] END criterion=poisson, max_depth=7, max_features=sqrt, max_samples=0.8, n_estimators=50; total time=   0.3s\n",
      "[CV] END criterion=poisson, max_depth=7, max_features=sqrt, max_samples=0.8, n_estimators=200; total time=   1.2s\n",
      "[CV] END criterion=poisson, max_depth=7, max_features=sqrt, max_samples=0.8, n_estimators=200; total time=   1.2s\n",
      "[CV] END criterion=poisson, max_depth=7, max_features=sqrt, max_samples=0.8, n_estimators=500; total time=   3.1s\n",
      "[CV] END criterion=poisson, max_depth=7, max_features=sqrt, max_samples=0.8, n_estimators=500; total time=   3.2s\n",
      "[CV] END criterion=poisson, max_depth=7, max_features=sqrt, max_samples=0.9, n_estimators=50; total time=   0.2s\n",
      "[CV] END criterion=poisson, max_depth=7, max_features=sqrt, max_samples=0.9, n_estimators=50; total time=   0.2s\n",
      "[CV] END criterion=poisson, max_depth=7, max_features=sqrt, max_samples=0.9, n_estimators=200; total time=   1.4s\n",
      "[CV] END criterion=poisson, max_depth=7, max_features=sqrt, max_samples=0.9, n_estimators=200; total time=   1.3s\n",
      "[CV] END criterion=poisson, max_depth=7, max_features=sqrt, max_samples=0.9, n_estimators=500; total time=   3.4s\n",
      "[CV] END criterion=poisson, max_depth=7, max_features=sqrt, max_samples=0.9, n_estimators=500; total time=   3.2s\n",
      "[CV] END criterion=poisson, max_depth=7, max_features=log2, max_samples=0.7, n_estimators=50; total time=   0.2s\n",
      "[CV] END criterion=poisson, max_depth=7, max_features=log2, max_samples=0.7, n_estimators=50; total time=   0.2s\n",
      "[CV] END criterion=poisson, max_depth=7, max_features=log2, max_samples=0.7, n_estimators=200; total time=   1.1s\n",
      "[CV] END criterion=poisson, max_depth=7, max_features=log2, max_samples=0.7, n_estimators=200; total time=   1.1s\n",
      "[CV] END criterion=poisson, max_depth=7, max_features=log2, max_samples=0.7, n_estimators=500; total time=   3.0s\n",
      "[CV] END criterion=poisson, max_depth=7, max_features=log2, max_samples=0.7, n_estimators=500; total time=   2.9s\n",
      "[CV] END criterion=poisson, max_depth=7, max_features=log2, max_samples=0.8, n_estimators=50; total time=   0.2s\n",
      "[CV] END criterion=poisson, max_depth=7, max_features=log2, max_samples=0.8, n_estimators=50; total time=   0.2s\n",
      "[CV] END criterion=poisson, max_depth=7, max_features=log2, max_samples=0.8, n_estimators=200; total time=   1.2s\n",
      "[CV] END criterion=poisson, max_depth=7, max_features=log2, max_samples=0.8, n_estimators=200; total time=   1.2s\n",
      "[CV] END criterion=poisson, max_depth=7, max_features=log2, max_samples=0.8, n_estimators=500; total time=   3.2s\n",
      "[CV] END criterion=poisson, max_depth=7, max_features=log2, max_samples=0.8, n_estimators=500; total time=   3.2s\n",
      "[CV] END criterion=poisson, max_depth=7, max_features=log2, max_samples=0.9, n_estimators=50; total time=   0.3s\n",
      "[CV] END criterion=poisson, max_depth=7, max_features=log2, max_samples=0.9, n_estimators=50; total time=   0.3s\n",
      "[CV] END criterion=poisson, max_depth=7, max_features=log2, max_samples=0.9, n_estimators=200; total time=   1.2s\n",
      "[CV] END criterion=poisson, max_depth=7, max_features=log2, max_samples=0.9, n_estimators=200; total time=   1.3s\n",
      "[CV] END criterion=poisson, max_depth=7, max_features=log2, max_samples=0.9, n_estimators=500; total time=   3.4s\n",
      "[CV] END criterion=poisson, max_depth=7, max_features=log2, max_samples=0.9, n_estimators=500; total time=   3.3s\n"
     ]
    },
    {
     "data": {
      "text/plain": [
       "GridSearchCV(cv=2, estimator=RandomForestRegressor(oob_score=True),\n",
       "             param_grid={'criterion': ['squared_error', 'absolute_error',\n",
       "                                       'poisson'],\n",
       "                         'max_depth': [3, 5, 7],\n",
       "                         'max_features': ['sqrt', 'log2'],\n",
       "                         'max_samples': [0.7, 0.8, 0.9],\n",
       "                         'n_estimators': [50, 200, 500]},\n",
       "             verbose=2)"
      ]
     },
     "execution_count": 8,
     "metadata": {},
     "output_type": "execute_result"
    }
   ],
   "source": [
    "gscv.fit(X_train,Y_train.ravel())"
   ]
  },
  {
   "cell_type": "code",
   "execution_count": 9,
   "id": "bce02bfd",
   "metadata": {},
   "outputs": [],
   "source": [
    "gscv_param = gscv.best_params_"
   ]
  },
  {
   "cell_type": "markdown",
   "id": "3c6dcfa6",
   "metadata": {},
   "source": [
    "### Create the model based on best params"
   ]
  },
  {
   "cell_type": "code",
   "execution_count": 10,
   "id": "ec87644f",
   "metadata": {},
   "outputs": [
    {
     "data": {
      "text/plain": [
       "RandomForestRegressor(criterion='absolute_error', max_depth=7,\n",
       "                      max_features='sqrt', max_samples=0.9, n_estimators=50,\n",
       "                      oob_score=True)"
      ]
     },
     "execution_count": 10,
     "metadata": {},
     "output_type": "execute_result"
    }
   ],
   "source": [
    "# create a RF regressor\n",
    "rf = RandomForestRegressor(oob_score = True, criterion = gscv_param['criterion'], max_depth = gscv_param['max_depth'], \n",
    "                           max_features = gscv_param['max_features'], max_samples = gscv_param['max_samples'], \n",
    "                           n_estimators = gscv_param['n_estimators'])\n",
    "rf.fit(X_train,Y_train.ravel())"
   ]
  },
  {
   "cell_type": "code",
   "execution_count": 11,
   "id": "fc77c877",
   "metadata": {},
   "outputs": [],
   "source": [
    "Y_pred_rf = rf.predict(X_test)"
   ]
  },
  {
   "cell_type": "markdown",
   "id": "0b02df15",
   "metadata": {},
   "source": [
    "# Apply XGBoost (from SKlearn) Grid Search "
   ]
  },
  {
   "cell_type": "code",
   "execution_count": 12,
   "id": "e28222a7",
   "metadata": {},
   "outputs": [],
   "source": [
    "from sklearn.ensemble import GradientBoostingRegressor\n",
    "xgbc = GradientBoostingRegressor(random_state = 7)"
   ]
  },
  {
   "cell_type": "code",
   "execution_count": 13,
   "id": "a86fba0d",
   "metadata": {},
   "outputs": [],
   "source": [
    "from sklearn.model_selection import GridSearchCV"
   ]
  },
  {
   "cell_type": "code",
   "execution_count": 14,
   "id": "b3471b63",
   "metadata": {},
   "outputs": [],
   "source": [
    "# param grid is dictionary \n",
    "# key --> name of parameter to be tuned\n",
    "# value --> list of values which you want to check \n",
    "param_grid = { \n",
    "    'learning_rate' : [0.01, 0.03],\n",
    "    'n_estimators' : [50, 200, 500, 700],\n",
    "    'max_depth' :[3, 5, 7, 9]\n",
    "}"
   ]
  },
  {
   "cell_type": "code",
   "execution_count": 15,
   "id": "234f615c",
   "metadata": {},
   "outputs": [],
   "source": [
    "gscv = GridSearchCV(estimator = xgbc, param_grid = param_grid, cv = 2, verbose = 2)"
   ]
  },
  {
   "cell_type": "code",
   "execution_count": 16,
   "id": "21165bde",
   "metadata": {},
   "outputs": [
    {
     "name": "stdout",
     "output_type": "stream",
     "text": [
      "Fitting 2 folds for each of 32 candidates, totalling 64 fits\n",
      "[CV] END ...learning_rate=0.01, max_depth=3, n_estimators=50; total time=   0.4s\n",
      "[CV] END ...learning_rate=0.01, max_depth=3, n_estimators=50; total time=   0.4s\n",
      "[CV] END ..learning_rate=0.01, max_depth=3, n_estimators=200; total time=   1.6s\n",
      "[CV] END ..learning_rate=0.01, max_depth=3, n_estimators=200; total time=   1.7s\n",
      "[CV] END ..learning_rate=0.01, max_depth=3, n_estimators=500; total time=   4.1s\n",
      "[CV] END ..learning_rate=0.01, max_depth=3, n_estimators=500; total time=   4.1s\n",
      "[CV] END ..learning_rate=0.01, max_depth=3, n_estimators=700; total time=   5.7s\n",
      "[CV] END ..learning_rate=0.01, max_depth=3, n_estimators=700; total time=   5.8s\n",
      "[CV] END ...learning_rate=0.01, max_depth=5, n_estimators=50; total time=   0.6s\n",
      "[CV] END ...learning_rate=0.01, max_depth=5, n_estimators=50; total time=   0.6s\n",
      "[CV] END ..learning_rate=0.01, max_depth=5, n_estimators=200; total time=   2.8s\n",
      "[CV] END ..learning_rate=0.01, max_depth=5, n_estimators=200; total time=   2.6s\n",
      "[CV] END ..learning_rate=0.01, max_depth=5, n_estimators=500; total time=   6.5s\n",
      "[CV] END ..learning_rate=0.01, max_depth=5, n_estimators=500; total time=   7.2s\n",
      "[CV] END ..learning_rate=0.01, max_depth=5, n_estimators=700; total time=  10.9s\n",
      "[CV] END ..learning_rate=0.01, max_depth=5, n_estimators=700; total time=   9.3s\n",
      "[CV] END ...learning_rate=0.01, max_depth=7, n_estimators=50; total time=   0.8s\n",
      "[CV] END ...learning_rate=0.01, max_depth=7, n_estimators=50; total time=   0.8s\n",
      "[CV] END ..learning_rate=0.01, max_depth=7, n_estimators=200; total time=   3.5s\n",
      "[CV] END ..learning_rate=0.01, max_depth=7, n_estimators=200; total time=   3.5s\n",
      "[CV] END ..learning_rate=0.01, max_depth=7, n_estimators=500; total time=   8.5s\n",
      "[CV] END ..learning_rate=0.01, max_depth=7, n_estimators=500; total time=   8.6s\n",
      "[CV] END ..learning_rate=0.01, max_depth=7, n_estimators=700; total time=  12.2s\n",
      "[CV] END ..learning_rate=0.01, max_depth=7, n_estimators=700; total time=  12.3s\n",
      "[CV] END ...learning_rate=0.01, max_depth=9, n_estimators=50; total time=   1.0s\n",
      "[CV] END ...learning_rate=0.01, max_depth=9, n_estimators=50; total time=   1.0s\n",
      "[CV] END ..learning_rate=0.01, max_depth=9, n_estimators=200; total time=   4.2s\n",
      "[CV] END ..learning_rate=0.01, max_depth=9, n_estimators=200; total time=   4.2s\n",
      "[CV] END ..learning_rate=0.01, max_depth=9, n_estimators=500; total time=  10.3s\n",
      "[CV] END ..learning_rate=0.01, max_depth=9, n_estimators=500; total time=  10.4s\n",
      "[CV] END ..learning_rate=0.01, max_depth=9, n_estimators=700; total time=  14.7s\n",
      "[CV] END ..learning_rate=0.01, max_depth=9, n_estimators=700; total time=  14.7s\n",
      "[CV] END ...learning_rate=0.03, max_depth=3, n_estimators=50; total time=   0.3s\n",
      "[CV] END ...learning_rate=0.03, max_depth=3, n_estimators=50; total time=   0.3s\n",
      "[CV] END ..learning_rate=0.03, max_depth=3, n_estimators=200; total time=   1.6s\n",
      "[CV] END ..learning_rate=0.03, max_depth=3, n_estimators=200; total time=   1.7s\n",
      "[CV] END ..learning_rate=0.03, max_depth=3, n_estimators=500; total time=   4.3s\n",
      "[CV] END ..learning_rate=0.03, max_depth=3, n_estimators=500; total time=   4.3s\n",
      "[CV] END ..learning_rate=0.03, max_depth=3, n_estimators=700; total time=   5.8s\n",
      "[CV] END ..learning_rate=0.03, max_depth=3, n_estimators=700; total time=   5.9s\n",
      "[CV] END ...learning_rate=0.03, max_depth=5, n_estimators=50; total time=   0.6s\n",
      "[CV] END ...learning_rate=0.03, max_depth=5, n_estimators=50; total time=   0.6s\n",
      "[CV] END ..learning_rate=0.03, max_depth=5, n_estimators=200; total time=   2.6s\n",
      "[CV] END ..learning_rate=0.03, max_depth=5, n_estimators=200; total time=   2.7s\n",
      "[CV] END ..learning_rate=0.03, max_depth=5, n_estimators=500; total time=   6.7s\n",
      "[CV] END ..learning_rate=0.03, max_depth=5, n_estimators=500; total time=   6.7s\n",
      "[CV] END ..learning_rate=0.03, max_depth=5, n_estimators=700; total time=   9.5s\n",
      "[CV] END ..learning_rate=0.03, max_depth=5, n_estimators=700; total time=   9.4s\n",
      "[CV] END ...learning_rate=0.03, max_depth=7, n_estimators=50; total time=   0.8s\n",
      "[CV] END ...learning_rate=0.03, max_depth=7, n_estimators=50; total time=   0.8s\n",
      "[CV] END ..learning_rate=0.03, max_depth=7, n_estimators=200; total time=   3.5s\n",
      "[CV] END ..learning_rate=0.03, max_depth=7, n_estimators=200; total time=   3.6s\n",
      "[CV] END ..learning_rate=0.03, max_depth=7, n_estimators=500; total time=   9.0s\n",
      "[CV] END ..learning_rate=0.03, max_depth=7, n_estimators=500; total time=   9.4s\n",
      "[CV] END ..learning_rate=0.03, max_depth=7, n_estimators=700; total time=  12.9s\n",
      "[CV] END ..learning_rate=0.03, max_depth=7, n_estimators=700; total time=  12.8s\n",
      "[CV] END ...learning_rate=0.03, max_depth=9, n_estimators=50; total time=   1.1s\n",
      "[CV] END ...learning_rate=0.03, max_depth=9, n_estimators=50; total time=   1.0s\n",
      "[CV] END ..learning_rate=0.03, max_depth=9, n_estimators=200; total time=   4.2s\n",
      "[CV] END ..learning_rate=0.03, max_depth=9, n_estimators=200; total time=   4.1s\n",
      "[CV] END ..learning_rate=0.03, max_depth=9, n_estimators=500; total time=  11.2s\n",
      "[CV] END ..learning_rate=0.03, max_depth=9, n_estimators=500; total time=  11.4s\n",
      "[CV] END ..learning_rate=0.03, max_depth=9, n_estimators=700; total time=  16.0s\n",
      "[CV] END ..learning_rate=0.03, max_depth=9, n_estimators=700; total time=  16.0s\n"
     ]
    },
    {
     "data": {
      "text/plain": [
       "GridSearchCV(cv=2, estimator=GradientBoostingRegressor(random_state=7),\n",
       "             param_grid={'learning_rate': [0.01, 0.03],\n",
       "                         'max_depth': [3, 5, 7, 9],\n",
       "                         'n_estimators': [50, 200, 500, 700]},\n",
       "             verbose=2)"
      ]
     },
     "execution_count": 16,
     "metadata": {},
     "output_type": "execute_result"
    }
   ],
   "source": [
    "gscv.fit(X_train,Y_train.ravel())"
   ]
  },
  {
   "cell_type": "code",
   "execution_count": 17,
   "id": "a0e72675",
   "metadata": {},
   "outputs": [],
   "source": [
    "gscv_param = gscv.best_params_"
   ]
  },
  {
   "cell_type": "markdown",
   "id": "d98205b0",
   "metadata": {},
   "source": [
    "### Create the model based on best params"
   ]
  },
  {
   "cell_type": "code",
   "execution_count": 18,
   "id": "fd44cfd8",
   "metadata": {},
   "outputs": [
    {
     "data": {
      "text/plain": [
       "GradientBoostingRegressor(learning_rate=0.03, max_depth=7, n_estimators=700,\n",
       "                          random_state=7)"
      ]
     },
     "execution_count": 18,
     "metadata": {},
     "output_type": "execute_result"
    }
   ],
   "source": [
    "# create a GB regressor\n",
    "gbr = GradientBoostingRegressor(random_state = 7, learning_rate = gscv_param['learning_rate'], \n",
    "                                max_depth = gscv_param['max_depth'], n_estimators = gscv_param['n_estimators'])\n",
    "gbr.fit(X_train,Y_train.ravel())"
   ]
  },
  {
   "cell_type": "code",
   "execution_count": 19,
   "id": "9578b2eb",
   "metadata": {},
   "outputs": [],
   "source": [
    "Y_pred_gbr = gbr.predict(X_test)"
   ]
  },
  {
   "cell_type": "markdown",
   "id": "5aedffdd",
   "metadata": {},
   "source": [
    "# Compare the models\n",
    "\n",
    "1. Compare the mse, mae, r2 score\n",
    "\n",
    "2. compare the plots"
   ]
  },
  {
   "cell_type": "markdown",
   "id": "8de55170",
   "metadata": {},
   "source": [
    "**Evaluation of Random Forest Regressor** "
   ]
  },
  {
   "cell_type": "code",
   "execution_count": 20,
   "id": "1861c941",
   "metadata": {},
   "outputs": [
    {
     "name": "stdout",
     "output_type": "stream",
     "text": [
      "r2 score =  0.8978497103502754 mse =  8.818040628836993  mae =  2.223703360717184\n"
     ]
    }
   ],
   "source": [
    "# RF model evaluation\n",
    "# calculate mean squared error (MSE) , mean absolute error (MAE) and R2 score for RF regressor.\n",
    "\n",
    "r2, mse, mae = eval_fun(Y_test, Y_pred_rf) \n",
    "print(\"r2 score = \", r2, \"mse = \", mse, \" mae = \", mae)"
   ]
  },
  {
   "cell_type": "markdown",
   "id": "8f4255f6",
   "metadata": {},
   "source": [
    "**Evaluation of Gradient Boosting Regressor** "
   ]
  },
  {
   "cell_type": "code",
   "execution_count": 21,
   "id": "7f03e078",
   "metadata": {},
   "outputs": [
    {
     "name": "stdout",
     "output_type": "stream",
     "text": [
      "r2 score =  0.9668021874436133 mse =  2.8657741540875024  mae =  1.1408263426147374\n"
     ]
    }
   ],
   "source": [
    "# XG Boost model evaluation\n",
    "# calculate mean squared error (MSE) , mean absolute error (MAE) and R2 score for GB regressor.\n",
    "\n",
    "r2, mse, mae = eval_fun(Y_test,Y_pred_gbr) \n",
    "print(\"r2 score = \", r2, \"mse = \", mse, \" mae = \", mae)"
   ]
  },
  {
   "cell_type": "markdown",
   "id": "f73d4bc3",
   "metadata": {},
   "source": [
    "Plot the results of regression and compare"
   ]
  },
  {
   "cell_type": "code",
   "execution_count": 22,
   "id": "53ae2e59",
   "metadata": {},
   "outputs": [
    {
     "data": {
      "text/plain": [
       "(1986, 3)"
      ]
     },
     "execution_count": 22,
     "metadata": {},
     "output_type": "execute_result"
    }
   ],
   "source": [
    "res = pd.DataFrame( { \"Y_test\": Y_test.ravel(), \"Y_predicted_rf\": Y_pred_rf, \"Y_predicted_gbr\": Y_pred_gbr } )\n",
    "res.shape"
   ]
  },
  {
   "cell_type": "code",
   "execution_count": 23,
   "id": "e0b8cdb3",
   "metadata": {},
   "outputs": [
    {
     "data": {
      "text/plain": [
       "<AxesSubplot:>"
      ]
     },
     "execution_count": 23,
     "metadata": {},
     "output_type": "execute_result"
    },
    {
     "data": {
      "image/png": "[encoded data removed]",
      "text/plain": [
       "<Figure size 432x288 with 1 Axes>"
      ]
     },
     "metadata": {
      "needs_background": "light"
     },
     "output_type": "display_data"
    }
   ],
   "source": [
    "res[['Y_test', 'Y_predicted_rf']].plot()"
   ]
  },
  {
   "cell_type": "code",
   "execution_count": 24,
   "id": "78056292",
   "metadata": {},
   "outputs": [
    {
     "data": {
      "text/plain": [
       "<AxesSubplot:>"
      ]
     },
     "execution_count": 24,
     "metadata": {},
     "output_type": "execute_result"
    },
    {
     "data": {
      "image/png": "[encoded data removed]",
      "text/plain": [
       "<Figure size 432x288 with 1 Axes>"
      ]
     },
     "metadata": {
      "needs_background": "light"
     },
     "output_type": "display_data"
    }
   ],
   "source": [
    "res[['Y_test', 'Y_predicted_gbr']].plot()"
   ]
  },
  {
   "cell_type": "code",
   "execution_count": 25,
   "id": "0fd848b1",
   "metadata": {},
   "outputs": [
    {
     "data": {
      "text/plain": [
       "<AxesSubplot:>"
      ]
     },
     "execution_count": 25,
     "metadata": {},
     "output_type": "execute_result"
    },
    {
     "data": {
      "image/png": "[encoded data removed]",
      "text/plain": [
       "<Figure size 432x288 with 1 Axes>"
      ]
     },
     "metadata": {
      "needs_background": "light"
     },
     "output_type": "display_data"
    }
   ],
   "source": [
    "res = pd.DataFrame( { \"Y_test\": Y_test.ravel(), \"Y_predicted_rf\": Y_pred_rf, \"Y_predicted_gbr\": Y_pred_gbr } )\n",
    "res.plot()"
   ]
  },
  {
   "cell_type": "code",
   "execution_count": null,
   "id": "e04b81a0",
   "metadata": {},
   "outputs": [],
   "source": []
  }
 ],
 "metadata": {
  "kernelspec": {
   "display_name": "Python 3 (ipykernel)",
   "language": "python",
   "name": "python3"
  },
  "language_info": {
   "codemirror_mode": {
    "name": "ipython",
    "version": 3
   },
   "file_extension": ".py",
   "mimetype": "text/x-python",
   "name": "python",
   "nbconvert_exporter": "python",
   "pygments_lexer": "ipython3",
   "version": "3.9.12"
  }
 },
 "nbformat": 4,
 "nbformat_minor": 5
}
